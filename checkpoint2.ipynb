{
 "cells": [
  {
   "cell_type": "markdown",
   "id": "29f286cf",
   "metadata": {},
   "source": [
    "# Checkpoints2: Test de compétence python\n",
    "\n",
    "\n",
    "\n",
    "\n"
   ]
  },
  {
   "cell_type": "markdown",
   "id": "3d020c56",
   "metadata": {},
   "source": [
    "# Question 1"
   ]
  },
  {
   "cell_type": "code",
   "execution_count": 408,
   "id": "73da059d",
   "metadata": {},
   "outputs": [
    {
     "name": "stdout",
     "output_type": "stream",
     "text": [
      "Les nombres divisibles par 7 mais non multiple de 5, entre 2000 et 3200 sont :\n",
      "[2002, 2009, 2016, 2023, 2037, 2044, 2051, 2058, 2072, 2079, 2086, 2093, 2107, 2114, 2121, 2128, 2142, 2149, 2156, 2163, 2177, 2184, 2191, 2198, 2212, 2219, 2226, 2233, 2247, 2254, 2261, 2268, 2282, 2289, 2296, 2303, 2317, 2324, 2331, 2338, 2352, 2359, 2366, 2373, 2387, 2394, 2401, 2408, 2422, 2429, 2436, 2443, 2457, 2464, 2471, 2478, 2492, 2499, 2506, 2513, 2527, 2534, 2541, 2548, 2562, 2569, 2576, 2583, 2597, 2604, 2611, 2618, 2632, 2639, 2646, 2653, 2667, 2674, 2681, 2688, 2702, 2709, 2716, 2723, 2737, 2744, 2751, 2758, 2772, 2779, 2786, 2793, 2807, 2814, 2821, 2828, 2842, 2849, 2856, 2863, 2877, 2884, 2891, 2898, 2912, 2919, 2926, 2933, 2947, 2954, 2961, 2968, 2982, 2989, 2996, 3003, 3017, 3024, 3031, 3038, 3052, 3059, 3066, 3073, 3087, 3094, 3101, 3108, 3122, 3129, 3136, 3143, 3157, 3164, 3171, 3178, 3192, 3199]\n"
     ]
    }
   ],
   "source": [
    "#show numbers divisible by 7\n",
    "\n",
    "print(\"Les nombres divisibles par 7 mais non multiple de 5, entre 2000 et 3200 sont :\")\n",
    "\n",
    "#initialize an empty list\n",
    "\n",
    "liste =[]     \n",
    "\n",
    "#iterate numbers beetween 2000 and 3200\n",
    "\n",
    "for i in range(2000,3201):\n",
    "    \n",
    "    if i % 7 == 0 and i % 5 != 0 :\n",
    "        \n",
    "        liste.append(i)\n",
    "        \n",
    "#viewing list\n",
    "\n",
    "print(liste) "
   ]
  },
  {
   "cell_type": "markdown",
   "id": "0059d2a9",
   "metadata": {},
   "source": [
    "# Question2"
   ]
  },
  {
   "cell_type": "code",
   "execution_count": 422,
   "id": "bc21e5fa",
   "metadata": {},
   "outputs": [
    {
     "name": "stdout",
     "output_type": "stream",
     "text": [
      "veuillez entrer un entier positif svp: 8\n",
      "Factoriel de ( 8 ) = 40320\n"
     ]
    }
   ],
   "source": [
    "#Initialize counter to 1\n",
    "\n",
    "compteur = 1\n",
    "\n",
    "# assign to 'nomber' the entered value\n",
    "\n",
    "nombre = int(input(\"veuillez entrer un entier positif svp: \"))\n",
    "\n",
    "#checked if the given number is a positive integers\n",
    "\n",
    "if nombre < 0:\n",
    "    \n",
    "    print(\"SVP entrer un nombre positif ! \")\n",
    "    \n",
    "else:   \n",
    "    \n",
    "    for i in range(1,nombre+1):\n",
    "        \n",
    "        compteur = compteur * i\n",
    "         \n",
    "            \n",
    "    #viewing factorial\n",
    "\n",
    "    print(\"Factoriel de (\",nombre,\") =\",compteur)\n"
   ]
  },
  {
   "cell_type": "markdown",
   "id": "77814d44",
   "metadata": {},
   "source": [
    "# Question3"
   ]
  },
  {
   "cell_type": "code",
   "execution_count": 419,
   "id": "818aaf87",
   "metadata": {
    "scrolled": true
   },
   "outputs": [
    {
     "name": "stdout",
     "output_type": "stream",
     "text": [
      "Veuillez entrer un nombre positif please : 10\n",
      "{1: 1, 2: 4, 3: 9, 4: 16, 5: 25, 6: 36, 7: 49, 8: 64, 9: 81, 10: 100}\n"
     ]
    }
   ],
   "source": [
    "#initialize an empty dictionary \n",
    "\n",
    "dic = {}\n",
    "\n",
    "#ask the user to enter a number\n",
    "\n",
    "nombre = int(input(\"Veuillez entrer un nombre positif please : \"))\n",
    "\n",
    "#checked if given number is positive \n",
    "\n",
    "if nombre < 0:\n",
    "    \n",
    "    print(\"SVP entrer un nombre positif ! \")\n",
    "    \n",
    "else:\n",
    "     \n",
    "    for i in range(1,nombre+1):\n",
    "        \n",
    "        dic[i] = i*i\n",
    "        \n",
    "    #viewing dictionary\n",
    "\n",
    "    print(dic)\n",
    "        \n"
   ]
  },
  {
   "cell_type": "markdown",
   "id": "31b6112c",
   "metadata": {},
   "source": [
    "# Question4 "
   ]
  },
  {
   "cell_type": "code",
   "execution_count": 429,
   "id": "67078112",
   "metadata": {},
   "outputs": [
    {
     "name": "stdout",
     "output_type": "stream",
     "text": [
      "Chaine : nanoucha\n",
      "Index : 5\n",
      "missing_char ('nanoucha', 5) ---> nanouha\n"
     ]
    }
   ],
   "source": [
    "#Define function that removes the character at index n\n",
    "\n",
    "def supprimer_caracter(chaine,index):\n",
    "    \n",
    "    for i in range(len(chaine)):\n",
    "        \n",
    "        return chaine[:index] + chaine[index+1:]\n",
    "    \n",
    "    \n",
    "     \n",
    "#assign to 'chaine' and 'index' the entered value    \n",
    "\n",
    "chaine = input(\"Chaine : \")\n",
    "\n",
    "index = int(input(\"Index : \"))\n",
    "\n",
    "#calling function\n",
    "\n",
    "print(\"missing_char\",(chaine,index),\"--->\",supprimer_caracter(chaine,index))\n",
    "        "
   ]
  },
  {
   "cell_type": "markdown",
   "id": "382c0453",
   "metadata": {},
   "source": [
    "# Question5"
   ]
  },
  {
   "cell_type": "code",
   "execution_count": 368,
   "id": "37511e07",
   "metadata": {},
   "outputs": [
    {
     "name": "stdout",
     "output_type": "stream",
     "text": [
      "Eléments du tableau d'origine :  [[0 1]\n",
      " [2 3]\n",
      " [4 5]]\n",
      "Tableau à liste :  [[0, 1], [2, 3], [4, 5]]\n"
     ]
    }
   ],
   "source": [
    "#Import numpy library\n",
    "\n",
    "import numpy as np\n",
    "\n",
    "#initialize numpy array\n",
    "\n",
    "tab = np.array([[0,1],[2,3],[4,5]])\n",
    "\n",
    "#viewing array\n",
    "\n",
    "print(\"Eléments du tableau d'origine : \",tab)\n",
    "\n",
    "liste = tab.tolist()\n",
    "\n",
    "#viewing list \n",
    "\n",
    "print(\"Tableau à liste : \",liste)"
   ]
  },
  {
   "cell_type": "markdown",
   "id": "07f234dd",
   "metadata": {},
   "source": [
    "# Question6"
   ]
  },
  {
   "cell_type": "code",
   "execution_count": 388,
   "id": "b6ff55c9",
   "metadata": {},
   "outputs": [
    {
     "name": "stdout",
     "output_type": "stream",
     "text": [
      "Tableau origine 1 :  [0 1 2]\n",
      "Tableau d'origine 2 :  [2 1 0]\n",
      "Matrice de covariance des deux tableaux :  [[ 1. -1.]\n",
      " [-1.  1.]]\n"
     ]
    }
   ],
   "source": [
    "#Import numpy library\n",
    "\n",
    "import numpy as np\n",
    "\n",
    "#initialize first numpy array\n",
    "\n",
    "tableau1 = np.array([0,1,2])\n",
    "\n",
    "print(\"Tableau origine 1 : \",tableau1)\n",
    "\n",
    "#initialize second numpy array\n",
    "\n",
    "tableau2 = np.array([2,1,0])\n",
    "\n",
    "print(\"Tableau d'origine 2 : \",tableau2)\n",
    "\n",
    "#calling \"cov\" function \n",
    "\n",
    "covariance = np.cov(tableau1, tableau2)\n",
    "\n",
    "#viewing convariance\n",
    "\n",
    "print(\"Matrice de covariance des deux tableaux : \",covariance)"
   ]
  },
  {
   "cell_type": "markdown",
   "id": "961dca8f",
   "metadata": {},
   "source": [
    "# Question7"
   ]
  },
  {
   "cell_type": "code",
   "execution_count": 430,
   "id": "fb6bc37a",
   "metadata": {},
   "outputs": [
    {
     "name": "stdout",
     "output_type": "stream",
     "text": [
      "veuillez entrer les valeurs de la liste séparées par des virgules : 100,150,180\n",
      "Q 0 : Racine carree de [(2*C* 100 /H)] =  18\n",
      "Q 1 : Racine carree de [(2*C* 150 /H)] =  22\n",
      "Q 2 : Racine carree de [(2*C* 180 /H)] =  24\n"
     ]
    }
   ],
   "source": [
    "#Import numpy library\n",
    "\n",
    "import numpy as np\n",
    "\n",
    "#Initialize variables C and D\n",
    "\n",
    "C = 50\n",
    "\n",
    "H = 30\n",
    "\n",
    "#initialize an empty list\n",
    "\n",
    "liste_vide = []\n",
    "\n",
    "#Define a fuction that calculate the square root\n",
    "\n",
    "def racine_carree(liste):\n",
    "    \n",
    "    for i in liste:\n",
    "       \n",
    "        #square root formula\n",
    "        racine = round(np.sqrt(2 * C * int(i) / 30 ))    \n",
    "        \n",
    "        #add the result to the empty list\n",
    "        \n",
    "        liste_vide.append(racine)  \n",
    "        \n",
    "    for x in range(len(liste)): \n",
    "            \n",
    "        print(\"Q\",x,\": Racine carree de [(2*C*\",liste[x],\"/H)] = \",liste_vide[x])\n",
    " \n",
    "    \n",
    "                                     \n",
    "# assign to 'D' the entered value  \n",
    "\n",
    "D = input(\"veuillez entrer les valeurs de la liste séparées par des virgules : \")\n",
    "\n",
    "D = D.split(',')    \n",
    "\n",
    "#calling function\n",
    "\n",
    "racine_carree(D)\n",
    "    "
   ]
  }
 ],
 "metadata": {
  "kernelspec": {
   "display_name": "Python 3 (ipykernel)",
   "language": "python",
   "name": "python3"
  },
  "language_info": {
   "codemirror_mode": {
    "name": "ipython",
    "version": 3
   },
   "file_extension": ".py",
   "mimetype": "text/x-python",
   "name": "python",
   "nbconvert_exporter": "python",
   "pygments_lexer": "ipython3",
   "version": "3.9.7"
  }
 },
 "nbformat": 4,
 "nbformat_minor": 5
}
